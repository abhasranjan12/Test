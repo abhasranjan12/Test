{
 "cells": [
  {
   "cell_type": "code",
   "execution_count": 3,
   "metadata": {},
   "outputs": [
    {
     "data": {
      "text/plain": [
       "True"
      ]
     },
     "execution_count": 3,
     "metadata": {},
     "output_type": "execute_result"
    }
   ],
   "source": [
    "2==2\n"
   ]
  },
  {
   "cell_type": "code",
   "execution_count": 4,
   "metadata": {},
   "outputs": [
    {
     "data": {
      "text/plain": [
       "True"
      ]
     },
     "execution_count": 4,
     "metadata": {},
     "output_type": "execute_result"
    }
   ],
   "source": [
    "1!=3"
   ]
  },
  {
   "cell_type": "code",
   "execution_count": 5,
   "metadata": {},
   "outputs": [
    {
     "data": {
      "text/plain": [
       "True"
      ]
     },
     "execution_count": 5,
     "metadata": {},
     "output_type": "execute_result"
    }
   ],
   "source": [
    "6>3"
   ]
  },
  {
   "cell_type": "code",
   "execution_count": 6,
   "metadata": {},
   "outputs": [
    {
     "data": {
      "text/plain": [
       "False"
      ]
     },
     "execution_count": 6,
     "metadata": {},
     "output_type": "execute_result"
    }
   ],
   "source": [
    "33<-6"
   ]
  },
  {
   "cell_type": "code",
   "execution_count": 7,
   "metadata": {},
   "outputs": [
    {
     "data": {
      "text/plain": [
       "False"
      ]
     },
     "execution_count": 7,
     "metadata": {},
     "output_type": "execute_result"
    }
   ],
   "source": [
    "1>2 and 3<4"
   ]
  },
  {
   "cell_type": "code",
   "execution_count": 8,
   "metadata": {},
   "outputs": [
    {
     "data": {
      "text/plain": [
       "True"
      ]
     },
     "execution_count": 8,
     "metadata": {},
     "output_type": "execute_result"
    }
   ],
   "source": [
    "1<2 and 3<4"
   ]
  },
  {
   "cell_type": "code",
   "execution_count": 9,
   "metadata": {},
   "outputs": [
    {
     "data": {
      "text/plain": [
       "True"
      ]
     },
     "execution_count": 9,
     "metadata": {},
     "output_type": "execute_result"
    }
   ],
   "source": [
    "1<2 or 3>4"
   ]
  },
  {
   "cell_type": "code",
   "execution_count": 10,
   "metadata": {},
   "outputs": [
    {
     "data": {
      "text/plain": [
       "True"
      ]
     },
     "execution_count": 10,
     "metadata": {},
     "output_type": "execute_result"
    }
   ],
   "source": [
    "1<2 and not 5>6\n"
   ]
  },
  {
   "cell_type": "code",
   "execution_count": 12,
   "metadata": {},
   "outputs": [
    {
     "name": "stdout",
     "output_type": "stream",
     "text": [
      "5 is greater than 3\n"
     ]
    }
   ],
   "source": [
    "if 5>3:\n",
    "    print('5 is greater than 3');\n",
    "elif:\n",
    "    print(\"kjsdhfjhs\")\n",
    "else:\n",
    "    print('5 is not greater than 3')"
   ]
  },
  {
   "cell_type": "code",
   "execution_count": 17,
   "metadata": {},
   "outputs": [
    {
     "name": "stdout",
     "output_type": "stream",
     "text": [
      "welcome george\n"
     ]
    }
   ],
   "source": [
    "name=\"George\";\n",
    "if(name.lower()=='sam'):\n",
    "    print(\"welcome sam\");\n",
    "elif(name.lower()==\"george\"):\n",
    "    print(\"welcome george\");\n",
    "else:\n",
    "    print(\"What is your name?\")"
   ]
  },
  {
   "cell_type": "code",
   "execution_count": 64,
   "metadata": {},
   "outputs": [
    {
     "name": "stdout",
     "output_type": "stream",
     "text": [
      "5\n",
      "5\n"
     ]
    }
   ],
   "source": [
    "#find the median of 3 numbers\n",
    "import statistics;\n",
    "a=[5,9,3];\n",
    "a.sort();\n",
    "print(statistics.median(a));\n",
    "if(a[0]>a[1] and a[0]>a[2]):\n",
    "    if(a[1]>a[2]):\n",
    "    print(a[])\n",
    "\n",
    "a1=int(len(a)/2);\n",
    "\n",
    "if(len(a)%2==0):\n",
    "    print(a[int((len(a)/2))+1])\n",
    "else:\n",
    "    print(a[int((len(a)/2))])\n"
   ]
  },
  {
   "cell_type": "code",
   "execution_count": 59,
   "metadata": {},
   "outputs": [
    {
     "name": "stdout",
     "output_type": "stream",
     "text": [
      "winter\n"
     ]
    }
   ],
   "source": [
    "#season \n",
    "#summer :june20- sept 19\n",
    "#autumn :sept20 - dec 19\n",
    "#winter : dec20- Jun 19\n",
    "#spring=mar20 -june19\n",
    "\n",
    "d=23;\n",
    "m='december';\n",
    "#summer\n",
    "if(m=='june'):\n",
    "    if(d>=20 and d<=30):\n",
    "        print('summer');\n",
    "elif(m=='september'):\n",
    "    if(d<20):\n",
    "        print('summer');\n",
    "elif(m=='july'or m=='august'):\n",
    "    print('summer');\n",
    "\n",
    "#autumn\n",
    "if(m=='september'):\n",
    "    if(d>=20 and d<=30):\n",
    "        print('Autumn');\n",
    "elif(m=='december'):\n",
    "    if(d<20):\n",
    "        print('Autumn');\n",
    "elif(m=='october'or m=='november'):\n",
    "    print('Autumn');\n",
    "\n",
    "#Winter\n",
    "if(m=='december'):\n",
    "    if(d>=20 and d<=31):\n",
    "        print('winter');\n",
    "elif(m=='march'):\n",
    "    if(d<20):\n",
    "        print('winter');\n",
    "elif(m=='january'or m=='feburary'):\n",
    "    print('winter');\n",
    "    \n",
    "#spring\n",
    "if(m=='march'):\n",
    "    if(d>=20 and d<=30):\n",
    "        print('Spring');\n",
    "elif(m=='june'):\n",
    "    if(d<20):\n",
    "        print('spring');\n",
    "elif(m=='april'or m=='may'):\n",
    "    print('spring');\n"
   ]
  },
  {
   "cell_type": "code",
   "execution_count": 68,
   "metadata": {},
   "outputs": [
    {
     "name": "stdout",
     "output_type": "stream",
     "text": [
      "9\n",
      "7\n",
      "5\n",
      "3\n",
      "1\n"
     ]
    }
   ],
   "source": [
    "x=10;\n",
    "while(x>=0):\n",
    "    if(x%2!=0):\n",
    "        print(x);\n",
    "    x=x-2;"
   ]
  },
  {
   "cell_type": "code",
   "execution_count": 71,
   "metadata": {},
   "outputs": [
    {
     "name": "stdout",
     "output_type": "stream",
     "text": [
      "10\n",
      "8\n",
      "6\n",
      "4\n",
      "2\n",
      "0\n"
     ]
    }
   ],
   "source": [
    "x=10;\n",
    "while(x>=0):\n",
    "    print(x);\n",
    "    x=x-2;"
   ]
  },
  {
   "cell_type": "code",
   "execution_count": 73,
   "metadata": {},
   "outputs": [
    {
     "name": "stdout",
     "output_type": "stream",
     "text": [
      "[10, 11, 12, 13, 14, 15, 16, 17, 18, 19]\n"
     ]
    }
   ],
   "source": [
    "print(list(range(10,20)));\n"
   ]
  },
  {
   "cell_type": "code",
   "execution_count": 82,
   "metadata": {},
   "outputs": [
    {
     "name": "stdout",
     "output_type": "stream",
     "text": [
      "[12, 11, 10, 9, 8, 7, 6, 5, 4, 3, 2, 1, 0]\n"
     ]
    }
   ],
   "source": [
    "\n",
    "list1=list(range(12,-1,-1));\n",
    "print(list1);\n"
   ]
  },
  {
   "cell_type": "code",
   "execution_count": 86,
   "metadata": {},
   "outputs": [
    {
     "name": "stdout",
     "output_type": "stream",
     "text": [
      "12\n",
      "11\n",
      "10\n",
      "9\n",
      "8\n",
      "7\n",
      "6\n",
      "5\n",
      "4\n",
      "3\n",
      "2\n",
      "1\n",
      "0\n",
      "<built-in method append of list object at 0x03BAEDA0>\n"
     ]
    }
   ],
   "source": [
    "for i in list1:\n",
    "    print(i);\n"
   ]
  },
  {
   "cell_type": "code",
   "execution_count": 93,
   "metadata": {},
   "outputs": [
    {
     "name": "stdout",
     "output_type": "stream",
     "text": [
      "4 8\n"
     ]
    }
   ],
   "source": [
    "for index, value in enumerate(list1):#enumertate(list) if index value bot are required\n",
    "    if(index==4):\n",
    "        print(index,value);"
   ]
  },
  {
   "cell_type": "code",
   "execution_count": 102,
   "metadata": {},
   "outputs": [
    {
     "name": "stdout",
     "output_type": "stream",
     "text": [
      "4\n",
      "8\n"
     ]
    }
   ],
   "source": [
    "for index, value in enumerate(list1):#enumertate(list) if index value bot are required\n",
    "    if(index==4):\n",
    "        print(index)  \n",
    "        print(value)"
   ]
  },
  {
   "cell_type": "code",
   "execution_count": 110,
   "metadata": {},
   "outputs": [
    {
     "name": "stdout",
     "output_type": "stream",
     "text": [
      "[(0, 'a'), (1, 'b'), (2, 'c'), (3, 'd'), (4, 'e')]\n"
     ]
    }
   ],
   "source": [
    "print(list(enumerate('abcde')));"
   ]
  },
  {
   "cell_type": "code",
   "execution_count": null,
   "metadata": {},
   "outputs": [],
   "source": []
  },
  {
   "cell_type": "code",
   "execution_count": null,
   "metadata": {},
   "outputs": [],
   "source": []
  }
 ],
 "metadata": {
  "kernelspec": {
   "display_name": "Python 3",
   "language": "python",
   "name": "python3"
  },
  "language_info": {
   "codemirror_mode": {
    "name": "ipython",
    "version": 3
   },
   "file_extension": ".py",
   "mimetype": "text/x-python",
   "name": "python",
   "nbconvert_exporter": "python",
   "pygments_lexer": "ipython3",
   "version": "3.7.1"
  }
 },
 "nbformat": 4,
 "nbformat_minor": 2
}
