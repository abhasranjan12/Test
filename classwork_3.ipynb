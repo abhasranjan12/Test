{
 "cells": [
  {
   "cell_type": "code",
   "execution_count": 24,
   "metadata": {},
   "outputs": [
    {
     "name": "stdout",
     "output_type": "stream",
     "text": [
      "Hello This is Abhas Ranjan dash.\n",
      "How are you\n",
      "hope you are fine\n"
     ]
    }
   ],
   "source": [
    "file1=open(\"data.txt\")\n",
    "\n",
    "print(file1.read())\n",
    "\n",
    "\n",
    "\n"
   ]
  },
  {
   "cell_type": "code",
   "execution_count": 25,
   "metadata": {},
   "outputs": [
    {
     "data": {
      "text/plain": [
       "'Hello This is Abhas Ranjan dash.\\nHow are you\\nhope you are fine'"
      ]
     },
     "execution_count": 25,
     "metadata": {},
     "output_type": "execute_result"
    }
   ],
   "source": [
    "\n",
    "file1.seek(0)\n",
    "file1.read()"
   ]
  },
  {
   "cell_type": "code",
   "execution_count": 33,
   "metadata": {},
   "outputs": [
    {
     "ename": "UnsupportedOperation",
     "evalue": "not writable",
     "output_type": "error",
     "traceback": [
      "\u001b[1;31m---------------------------------------------------------------------------\u001b[0m",
      "\u001b[1;31mUnsupportedOperation\u001b[0m                      Traceback (most recent call last)",
      "\u001b[1;32m<ipython-input-33-65f162440efe>\u001b[0m in \u001b[0;36m<module>\u001b[1;34m\u001b[0m\n\u001b[0;32m      1\u001b[0m \u001b[0mfile1\u001b[0m\u001b[1;33m=\u001b[0m\u001b[0mopen\u001b[0m\u001b[1;33m(\u001b[0m\u001b[1;34m\"data.txt\"\u001b[0m\u001b[1;33m)\u001b[0m\u001b[1;33m\u001b[0m\u001b[1;33m\u001b[0m\u001b[0m\n\u001b[1;32m----> 2\u001b[1;33m \u001b[0mfile1\u001b[0m\u001b[1;33m.\u001b[0m\u001b[0mwrite\u001b[0m\u001b[1;33m(\u001b[0m\u001b[1;34m\"hello sir\"\u001b[0m\u001b[1;33m)\u001b[0m\u001b[1;33m\u001b[0m\u001b[1;33m\u001b[0m\u001b[0m\n\u001b[0m\u001b[0;32m      3\u001b[0m \u001b[0mfile1\u001b[0m\u001b[1;33m.\u001b[0m\u001b[0mreadline\u001b[0m\u001b[1;33m(\u001b[0m\u001b[1;33m)\u001b[0m\u001b[1;33m\u001b[0m\u001b[1;33m\u001b[0m\u001b[0m\n",
      "\u001b[1;31mUnsupportedOperation\u001b[0m: not writable"
     ]
    }
   ],
   "source": [
    "file1=open(\"data.txt\")\n",
    "file1.readline()\n"
   ]
  },
  {
   "cell_type": "code",
   "execution_count": 31,
   "metadata": {},
   "outputs": [
    {
     "data": {
      "text/plain": [
       "'How are you\\n'"
      ]
     },
     "execution_count": 31,
     "metadata": {},
     "output_type": "execute_result"
    }
   ],
   "source": [
    "file1.readline()"
   ]
  },
  {
   "cell_type": "code",
   "execution_count": 32,
   "metadata": {},
   "outputs": [
    {
     "data": {
      "text/plain": [
       "'hope you are fine'"
      ]
     },
     "execution_count": 32,
     "metadata": {},
     "output_type": "execute_result"
    }
   ],
   "source": [
    "file1.readline()\n",
    "file1.close()"
   ]
  },
  {
   "cell_type": "code",
   "execution_count": 37,
   "metadata": {},
   "outputs": [],
   "source": [
    "# writing Text"
   ]
  },
  {
   "cell_type": "code",
   "execution_count": 43,
   "metadata": {},
   "outputs": [
    {
     "data": {
      "text/plain": [
       "9"
      ]
     },
     "execution_count": 43,
     "metadata": {},
     "output_type": "execute_result"
    }
   ],
   "source": [
    "file1=open(\"data.txt\",'w')\n",
    "file1.write(\"Hello sir\")\n",
    "\n",
    "\n"
   ]
  },
  {
   "cell_type": "code",
   "execution_count": 44,
   "metadata": {},
   "outputs": [],
   "source": [
    "file1.close();"
   ]
  },
  {
   "cell_type": "code",
   "execution_count": 46,
   "metadata": {},
   "outputs": [
    {
     "data": {
      "text/plain": [
       "'Hello sir'"
      ]
     },
     "execution_count": 46,
     "metadata": {},
     "output_type": "execute_result"
    }
   ],
   "source": [
    "file1=open(\"data.txt\")\n",
    "file1.read()"
   ]
  },
  {
   "cell_type": "code",
   "execution_count": 47,
   "metadata": {},
   "outputs": [],
   "source": [
    "file1.close()"
   ]
  },
  {
   "cell_type": "code",
   "execution_count": 51,
   "metadata": {},
   "outputs": [
    {
     "data": {
      "text/plain": [
       "0"
      ]
     },
     "execution_count": 51,
     "metadata": {},
     "output_type": "execute_result"
    }
   ],
   "source": [
    "file1=open(\"data.txt\",'w+')\n",
    "file1.write(\"How are you\")\n"
   ]
  },
  {
   "cell_type": "code",
   "execution_count": 52,
   "metadata": {},
   "outputs": [
    {
     "data": {
      "text/plain": [
       "'How are you'"
      ]
     },
     "execution_count": 52,
     "metadata": {},
     "output_type": "execute_result"
    }
   ],
   "source": [
    "file1.seek(0)\n",
    "file1.read()"
   ]
  },
  {
   "cell_type": "code",
   "execution_count": 53,
   "metadata": {},
   "outputs": [],
   "source": [
    "file1.close()"
   ]
  },
  {
   "cell_type": "code",
   "execution_count": 62,
   "metadata": {},
   "outputs": [
    {
     "data": {
      "text/plain": [
       "16"
      ]
     },
     "execution_count": 62,
     "metadata": {},
     "output_type": "execute_result"
    }
   ],
   "source": [
    "file1=open(\"data.txt\",'a')\n",
    "file1.write(\"\\n This is append\")"
   ]
  },
  {
   "cell_type": "code",
   "execution_count": 63,
   "metadata": {},
   "outputs": [],
   "source": [
    "file1.close()"
   ]
  },
  {
   "cell_type": "code",
   "execution_count": 76,
   "metadata": {},
   "outputs": [
    {
     "name": "stdout",
     "output_type": "stream",
     "text": [
      "Hello sirouThis is append\n",
      "This is append\n",
      " This is append\n",
      "This is append+\n"
     ]
    }
   ],
   "source": [
    "file1=open(\"data.txt\")\n",
    "print(file1.read())\n"
   ]
  },
  {
   "cell_type": "code",
   "execution_count": 58,
   "metadata": {},
   "outputs": [],
   "source": [
    "file1.close()\n"
   ]
  },
  {
   "cell_type": "code",
   "execution_count": 79,
   "metadata": {},
   "outputs": [
    {
     "name": "stdout",
     "output_type": "stream",
     "text": [
      "Hello sirouThis is append\n",
      "This is append\n",
      " This is append\n",
      "This is append+\n",
      "This is append+\n",
      "This is append+\n",
      "This is append+\n"
     ]
    }
   ],
   "source": [
    "file1=open(\"data.txt\",'a+')\n",
    "file1.write(\"\\nThis is append+\")#while using write function with a we have to close and read\n",
    "                                #while using  write function with a+ we have to use seek(0) with print(file1.read())                    \n",
    "file1.seek(0)\n",
    "\n",
    "print(file1.read())\n"
   ]
  },
  {
   "cell_type": "code",
   "execution_count": 86,
   "metadata": {},
   "outputs": [],
   "source": [
    "\n",
    "file=open(\"data.txt\",'r+')\n",
    "text=file.read()\n",
    "\n"
   ]
  },
  {
   "cell_type": "code",
   "execution_count": 87,
   "metadata": {},
   "outputs": [
    {
     "name": "stdout",
     "output_type": "stream",
     "text": [
      "Hello sirouThis is append\n",
      "This is append\n",
      " This is append\n",
      "This is append+\n",
      "This is append+\n",
      "This is append+\n",
      "This is append+\n"
     ]
    }
   ],
   "source": [
    "print(text)"
   ]
  },
  {
   "cell_type": "code",
   "execution_count": 88,
   "metadata": {},
   "outputs": [],
   "source": [
    "text1=text.replace(' ',',')"
   ]
  },
  {
   "cell_type": "code",
   "execution_count": 89,
   "metadata": {},
   "outputs": [
    {
     "name": "stdout",
     "output_type": "stream",
     "text": [
      "Hello,sirouThis,is,append\n",
      "This,is,append\n",
      ",This,is,append\n",
      "This,is,append+\n",
      "This,is,append+\n",
      "This,is,append+\n",
      "This,is,append+\n"
     ]
    }
   ],
   "source": [
    "print(text1)"
   ]
  },
  {
   "cell_type": "code",
   "execution_count": 136,
   "metadata": {},
   "outputs": [
    {
     "name": "stdout",
     "output_type": "stream",
     "text": [
      "\n",
      "I am\ta\tdata science Eng\n",
      " I work with\n",
      " TestYantraThis is Abhas Ranjan dash\n",
      "I am a data scientist engineer\n",
      "MY TEACHER IS TRISROTA MA'M\n",
      "The total batch strength is 15This is Abhas Ranjan dash\n",
      "I am a data scientist engineer\n",
      "MY TEACHER IS TRISROTA MA'M\n",
      "The total batch strength is 15This is Abhas Ranjan dash\n",
      "I am a data scientist engineer\n",
      "MY TEACHER IS TRISROTA MA'M\n",
      "The total batch strength is 15This is Abhas Ranjan dash\n",
      "I am a data scientist engineer\n",
      "MY TEACHER IS TRISROTA MA'M\n",
      "The total batch strength is 15This is Abhas Ranjan dash\n",
      "I am a data scientist engineer\n",
      "My teacher is Trisrota Ma'm\n",
      "The total batch strength is 15This is Abhas Ranjan dash\n",
      "I am a data scientist engineer\n",
      "My teacher is Trisrota Ma'm\n",
      "The total batch strength is 15I am\ta\tdata science Eng\n",
      " I work with\n",
      " TestYantraThis is Abhas Ranjan dash\n",
      "I am a data scientist engineer\n",
      "MY TEACHER IS TRISROTA MA'M\n",
      "The total batch strength is 15This is Abhas Ranjan dash\n",
      "I am a data scientist engineer\n",
      "MY TEACHER IS TRISROTA MA'M\n",
      "The total batch strength is 15This is Abhas Ranjan dash\n",
      "I am a data scientist engineer\n",
      "MY TEACHER IS TRISROTA MA'M\n",
      "The total batch strength is 15This is Abhas Ranjan dash\n",
      "I am a data scientist engineer\n",
      "MY TEACHER IS TRISROTA MA'M\n",
      "The total batch strength is 15This is Abhas Ranjan dash\n",
      "I am a data scientist engineer\n",
      "My teacher is Trisrota Ma'm\n",
      "The total batch strength is 15This is Abhas Ranjan dash\n",
      "I am a data scientist engineer\n",
      "My teacher is Trisrota Ma'm\n",
      "The total batch strength is 15\n"
     ]
    }
   ],
   "source": [
    "file=open(\"data1.txt\",'r+')\n",
    "# file.readline()\n",
    "# file.readline()\n",
    "# text=str(file.readline())\n",
    "# text1=text.replace(text,text.upper());\n",
    "a=file.readlines()\n",
    "b=str(a[2]).upper()\n",
    "for i,v in enumerate(a):\n",
    "   \n",
    "    if(i==2):\n",
    "        a[i]=str(a[i]).upper()\n",
    "         s+=a[i]\n",
    "        \n",
    "    \n",
    "print()\n",
    "\n",
    "\n",
    "file.write(s)\n",
    "file.seek(0)\n",
    "print(s)\n",
    "\n",
    "\n",
    "\n",
    "\n",
    "\n",
    "\n"
   ]
  },
  {
   "cell_type": "code",
   "execution_count": 183,
   "metadata": {},
   "outputs": [],
   "source": [
    "s1=\"I am\\ta\\tdata science Eng\\n I work with\\n TestYantra\"\n",
    "#l=['1,2\\n','3,4\\n','3,5\\n','7,8\\n']\n",
    "file=open(\"add.txt\",'r+')\n",
    "file1=open(\"add1.txt\",'r+')\n",
    "l=file.readlines();\n",
    "\n",
    "s2='';\n",
    "for i in l:\n",
    "    t=0\n",
    "    i=i.strip()\n",
    "    i=i.split(',')\n",
    "    t=int(i[0]) + int(i[1])\n",
    "    s2=(str(t)+\"\\n\")\n",
    "    file1.write(s2)\n",
    "    \n",
    "#     s2.strip()\n",
    "\n",
    "file.close()\n",
    "file1.close()\n",
    "\n",
    "\n",
    "\n",
    "\n",
    "\n"
   ]
  },
  {
   "cell_type": "markdown",
   "metadata": {},
   "source": [
    "# Functions"
   ]
  },
  {
   "cell_type": "code",
   "execution_count": 186,
   "metadata": {},
   "outputs": [
    {
     "name": "stdout",
     "output_type": "stream",
     "text": [
      "14\n"
     ]
    }
   ],
   "source": [
    "def add_3(a=2,b=3,c=6):\n",
    "    return a+b+c\n",
    "print(add_3(6,2))"
   ]
  },
  {
   "cell_type": "code",
   "execution_count": 191,
   "metadata": {},
   "outputs": [
    {
     "name": "stdout",
     "output_type": "stream",
     "text": [
      "pqr\n"
     ]
    }
   ],
   "source": [
    "def add_3(a,b,c='r'):\n",
    "    return a+b+c\n",
    "print(add_3('p','q'))"
   ]
  },
  {
   "cell_type": "code",
   "execution_count": null,
   "metadata": {},
   "outputs": [],
   "source": []
  }
 ],
 "metadata": {
  "kernelspec": {
   "display_name": "Python 3",
   "language": "python",
   "name": "python3"
  },
  "language_info": {
   "codemirror_mode": {
    "name": "ipython",
    "version": 3
   },
   "file_extension": ".py",
   "mimetype": "text/x-python",
   "name": "python",
   "nbconvert_exporter": "python",
   "pygments_lexer": "ipython3",
   "version": "3.7.1"
  }
 },
 "nbformat": 4,
 "nbformat_minor": 2
}
