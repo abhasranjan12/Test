{
 "cells": [
  {
   "cell_type": "markdown",
   "metadata": {},
   "source": [
    "## def Statements\n",
    "\n",
    "Let's see how to build out a function's syntax in Python. It has the following form:"
   ]
  },
  {
   "cell_type": "code",
   "execution_count": 1,
   "metadata": {},
   "outputs": [],
   "source": [
    "def name_of_function(arg1,arg2):\n",
    "    '''\n",
    "    This is where the function's Document String (docstring) goes\n",
    "    '''\n",
    "    # Do stuff here\n",
    "    # Return desired result"
   ]
  },
  {
   "cell_type": "markdown",
   "metadata": {},
   "source": [
    "### Example 1: A simple print 'hello' function"
   ]
  },
  {
   "cell_type": "code",
   "execution_count": 4,
   "metadata": {},
   "outputs": [],
   "source": [
    "def hel():\n",
    "    print(\"hello\")\n",
    "\n"
   ]
  },
  {
   "cell_type": "markdown",
   "metadata": {},
   "source": [
    "Call the function:"
   ]
  },
  {
   "cell_type": "code",
   "execution_count": 3,
   "metadata": {},
   "outputs": [
    {
     "name": "stdout",
     "output_type": "stream",
     "text": [
      "hello\n"
     ]
    }
   ],
   "source": [
    "hel()"
   ]
  },
  {
   "cell_type": "markdown",
   "metadata": {},
   "source": [
    "### Example 2: A simple greeting function\n",
    "Let's write a function that greets people with their name."
   ]
  },
  {
   "cell_type": "code",
   "execution_count": 6,
   "metadata": {},
   "outputs": [
    {
     "name": "stdout",
     "output_type": "stream",
     "text": [
      "enter the nameabhas\n",
      "Hello abhas\n"
     ]
    }
   ],
   "source": [
    "def greeting1(n):\n",
    "    print(\"Hello \"+str(name))\n",
    "name=input(\"enter the name\")\n",
    "greeting1(name)"
   ]
  },
  {
   "cell_type": "code",
   "execution_count": 2,
   "metadata": {},
   "outputs": [],
   "source": [
    ")\n"
   ]
  },
  {
   "cell_type": "code",
   "execution_count": 3,
   "metadata": {},
   "outputs": [
    {
     "name": "stdout",
     "output_type": "stream",
     "text": [
      "Hello  Jose\n"
     ]
    }
   ],
   "source": [
    "greeting1('Jose')"
   ]
  },
  {
   "cell_type": "markdown",
   "metadata": {},
   "source": [
    "## Using return\n",
    "Let's see some example that use a <code>return</code> statement. <code>return</code> allows a function to *return* a result that can then be stored as a variable, or used in whatever manner a user wants.\n",
    "\n",
    "### Example 3: Addition function"
   ]
  },
  {
   "cell_type": "code",
   "execution_count": 7,
   "metadata": {},
   "outputs": [
    {
     "name": "stdout",
     "output_type": "stream",
     "text": [
      "9\n"
     ]
    }
   ],
   "source": [
    "def add_num(num1,num2):\n",
    "    return num1+num2\n",
    "print(add_num(6,3))\n"
   ]
  },
  {
   "cell_type": "code",
   "execution_count": 7,
   "metadata": {},
   "outputs": [
    {
     "data": {
      "text/plain": [
       "9"
      ]
     },
     "execution_count": 7,
     "metadata": {},
     "output_type": "execute_result"
    }
   ],
   "source": []
  },
  {
   "cell_type": "code",
   "execution_count": 8,
   "metadata": {},
   "outputs": [
    {
     "name": "stdout",
     "output_type": "stream",
     "text": [
      "9\n"
     ]
    }
   ],
   "source": [
    "# Can also save as variable due to return\n",
    "result = add_num(4,5)\n",
    "print(result)\n"
   ]
  },
  {
   "cell_type": "code",
   "execution_count": 9,
   "metadata": {},
   "outputs": [
    {
     "name": "stdout",
     "output_type": "stream",
     "text": [
      "9\n"
     ]
    }
   ],
   "source": [
    "print(result)"
   ]
  },
  {
   "cell_type": "markdown",
   "metadata": {},
   "source": [
    "What happens if we input two strings?"
   ]
  },
  {
   "cell_type": "markdown",
   "metadata": {},
   "source": [
    "#### write a function which identifies whether a number is a prime number or not"
   ]
  },
  {
   "cell_type": "code",
   "execution_count": 1,
   "metadata": {},
   "outputs": [
    {
     "name": "stdout",
     "output_type": "stream",
     "text": [
      "not a prime no\n"
     ]
    }
   ],
   "source": [
    "def is_prime(num):\n",
    "    count=0\n",
    "    if(num==0 or num==1):\n",
    "        print(\"Not a prime\")\n",
    "    else:\n",
    "        for i in range(2,int(num/2)+1):\n",
    "            if(num%i==0):\n",
    "                count=count+1\n",
    "        if(count==0):\n",
    "            print(\"Prime No\")\n",
    "        else:\n",
    "            \n",
    "            print(\"not a prime no\")\n",
    "            \n",
    "\n",
    "                \n",
    "  "
   ]
  },
  {
   "cell_type": "code",
   "execution_count": 2,
   "metadata": {},
   "outputs": [
    {
     "name": "stdout",
     "output_type": "stream",
     "text": [
      "not a prime no\n"
     ]
    }
   ],
   "source": [
    "is_prime(8)"
   ]
  },
  {
   "cell_type": "code",
   "execution_count": 3,
   "metadata": {},
   "outputs": [
    {
     "name": "stdout",
     "output_type": "stream",
     "text": [
      "Prime No\n"
     ]
    }
   ],
   "source": [
    "is_prime(17)"
   ]
  },
  {
   "cell_type": "markdown",
   "metadata": {},
   "source": [
    "# Exercise 1:"
   ]
  },
  {
   "cell_type": "markdown",
   "metadata": {},
   "source": [
    "#### Write a python function which takes a list of numbers as input and returns the maxmum and minimum number "
   ]
  },
  {
   "cell_type": "code",
   "execution_count": 24,
   "metadata": {},
   "outputs": [
    {
     "name": "stdout",
     "output_type": "stream",
     "text": [
      "10.3\n",
      "-2\n"
     ]
    }
   ],
   "source": [
    "# n=input(\"enter the size\")\n",
    "# for i in range(int(n)):\n",
    "#     x=input(\"enter the Number\")\n",
    "#     s.append(x)\n",
    "#     s.sort()\n",
    "def max_min(s):\n",
    "    print(max(s))\n",
    "    print(min(s))\n",
    "    \n",
    "max_min([-2,6,3,7,4,9.2,10.3]) \n",
    "        "
   ]
  },
  {
   "cell_type": "markdown",
   "metadata": {},
   "source": [
    "#### write a python function which takes two numbers and tells whether one number is divisible by the other"
   ]
  },
  {
   "cell_type": "code",
   "execution_count": 56,
   "metadata": {},
   "outputs": [
    {
     "name": "stdout",
     "output_type": "stream",
     "text": [
      "yes\n",
      "yes\n",
      "No\n"
     ]
    }
   ],
   "source": [
    "def divisible(n1,n2):\n",
    "    if(n1>=n2):\n",
    "        \n",
    "            if(n1%n2==0):\n",
    "                print(\"yes\")\n",
    "            else:\n",
    "                print(\"No\")\n",
    "    else:\n",
    "        \n",
    "            if(n2%n1==0):\n",
    "                print(\"yes\")\n",
    "            else:\n",
    "                print(\"No\")\n",
    "                \n",
    "divisible(8,4) \n",
    "divisible(8,24) \n",
    "divisible(8,3) "
   ]
  },
  {
   "cell_type": "markdown",
   "metadata": {},
   "source": [
    "#### Write a Python function which takes a positive integer as argument and returns the sum of the squares of all the numbers equal to or less than the number."
   ]
  },
  {
   "cell_type": "code",
   "execution_count": 14,
   "metadata": {},
   "outputs": [
    {
     "name": "stdout",
     "output_type": "stream",
     "text": [
      "Enter the no5\n",
      "Sum of squares:  55\n"
     ]
    }
   ],
   "source": [
    "n1=input(\"Enter the no\")\n",
    "def sum_of_sq(n1):\n",
    "    sum1=0;\n",
    "    \n",
    "    for i in range(int(n1)+1):\n",
    "        sum1=sum1+(i**2)\n",
    "    return sum1\n",
    "\n",
    "print(\"Sum of squares: \",sum_of_sq(n1))"
   ]
  },
  {
   "cell_type": "markdown",
   "metadata": {},
   "source": [
    "#### Write a Python function which takes a positive integer as argument and returns the sum of the cube of all the positive integers smaller than the specified number"
   ]
  },
  {
   "cell_type": "code",
   "execution_count": 61,
   "metadata": {},
   "outputs": [
    {
     "name": "stdout",
     "output_type": "stream",
     "text": [
      "Enter the no3\n",
      "Sum of cubes:  9\n"
     ]
    }
   ],
   "source": [
    "n1=input(\"Enter the no\")\n",
    "def sum_of_cubes(n1):\n",
    "    sum1=0;\n",
    "    \n",
    "    for i in range(int(n1)):\n",
    "        sum1=sum1+(i**3)\n",
    "    return sum1\n",
    "\n",
    "print(\"Sum of cubes: \",sum_of_cubes(3))"
   ]
  },
  {
   "cell_type": "markdown",
   "metadata": {},
   "source": [
    "# Function Exercise2:\n"
   ]
  },
  {
   "cell_type": "markdown",
   "metadata": {},
   "source": [
    "####  Write a Python function to multiply all the numbers in a list. \n",
    "\n",
    "Sample List : (8, 2, 3, -1, 7)\n",
    "Expected Output : -336 "
   ]
  },
  {
   "cell_type": "code",
   "execution_count": 74,
   "metadata": {},
   "outputs": [
    {
     "name": "stdout",
     "output_type": "stream",
     "text": [
      "enter the size5\n",
      "4\n",
      "3\n",
      "26\n",
      "5\n",
      "2\n",
      "3120\n"
     ]
    }
   ],
   "source": [
    "n2=input(\"enter the size\")\n",
    "s=[]\n",
    "\n",
    "def multi():\n",
    "    mul=1;\n",
    "    for i in range(1,int(n2)+1):\n",
    "        x=input();\n",
    "        s.append(x);\n",
    "    for i in s:\n",
    "        mul=mul*int(i)\n",
    "    \n",
    "    print(mul)\n",
    "multi()\n"
   ]
  },
  {
   "cell_type": "markdown",
   "metadata": {},
   "source": [
    "####  Write a Python function to sum all the numbers in a list. \n",
    "Sample List : (8, 2, 3, 0, 7)\n",
    "Expected Output : 20 "
   ]
  },
  {
   "cell_type": "code",
   "execution_count": 76,
   "metadata": {},
   "outputs": [
    {
     "name": "stdout",
     "output_type": "stream",
     "text": [
      "enter the size5\n",
      "1\n",
      "2\n",
      "3\n",
      "4\n",
      "5\n",
      "15\n"
     ]
    }
   ],
   "source": [
    "n2=input(\"enter the size\")\n",
    "s=[]\n",
    "\n",
    "def summ():\n",
    "    summ=0;\n",
    "    for i in range(n2):\n",
    "        x=input();\n",
    "        s.append(x);\n",
    "    for i in s:\n",
    "        summ=summ+int(i);\n",
    "    print(summ)\n",
    "summ()"
   ]
  },
  {
   "cell_type": "markdown",
   "metadata": {},
   "source": [
    "####  Write a Python function that accepts a non-negative  integer as argumen and calculates the factorial of the number"
   ]
  },
  {
   "cell_type": "code",
   "execution_count": 87,
   "metadata": {},
   "outputs": [
    {
     "name": "stdout",
     "output_type": "stream",
     "text": [
      "enter the number5\n",
      "120\n"
     ]
    }
   ],
   "source": [
    "\n",
    "n2=input(\"enter the number\")\n",
    "fact(int(n2))\n",
    "\n",
    "def fact(n2):\n",
    "    fact=1;\n",
    "    \n",
    "    \n",
    "    for i in range(int(n2),0):\n",
    "        fact=fact*int(i);\n",
    "    print(fact)\n"
   ]
  },
  {
   "cell_type": "markdown",
   "metadata": {},
   "source": [
    "####  Write a Python program to reverse a string\n",
    "Sample String : \"1234abcd\"\n",
    "Expected Output : \"dcba4321\""
   ]
  },
  {
   "cell_type": "code",
   "execution_count": 29,
   "metadata": {},
   "outputs": [
    {
     "name": "stdout",
     "output_type": "stream",
     "text": [
      "enter the stringAbhas\n",
      "sahbA\n",
      "sahbA\n",
      "sahbA"
     ]
    }
   ],
   "source": [
    "\n",
    "s=input(\"enter the string\")\n",
    "\n",
    "\n",
    "def rev_str(s):\n",
    "    s1=\"\"\n",
    "    s2=\"\"\n",
    "    x=[]\n",
    "    s2=s[::-1]\n",
    "    print(s2)\n",
    "    # Another logic\n",
    "    for i in s:\n",
    "        s1=i+s1;\n",
    "    print(s1)\n",
    "    #Another logic\n",
    "    x=list(reversed(s))\n",
    "    for i in x:\n",
    "        print(i,end='')\n",
    "rev_str(s)\n"
   ]
  },
  {
   "cell_type": "markdown",
   "metadata": {},
   "source": [
    "#### Write a Python funtion which takes a list of numbers as argument and prints the even numbers from the given list."
   ]
  },
  {
   "cell_type": "code",
   "execution_count": 23,
   "metadata": {},
   "outputs": [
    {
     "name": "stdout",
     "output_type": "stream",
     "text": [
      "enter the size5\n",
      "6\n",
      "38\n",
      "95\n",
      "45\n",
      "66\n",
      "6\n",
      "38\n",
      "66\n"
     ]
    }
   ],
   "source": [
    "n2=input(\"enter the size\")\n",
    "s=[]\n",
    "\n",
    "\n",
    "def even(a):\n",
    "    \n",
    "    for i in range(1,int(n2)+1):\n",
    "        \n",
    "        x=input();\n",
    "        s.append(x);\n",
    "    for i in s:\n",
    "        if(int(i)%2==0):\n",
    "            print(str(i))\n",
    "\n",
    "even(int(n2));"
   ]
  },
  {
   "cell_type": "markdown",
   "metadata": {},
   "source": []
  },
  {
   "cell_type": "code",
   "execution_count": null,
   "metadata": {},
   "outputs": [],
   "source": [
    "\n"
   ]
  },
  {
   "cell_type": "markdown",
   "metadata": {},
   "source": [
    "#### Write a Python function that accepts a string and calculate the number of upper case letters and lower case letters."
   ]
  },
  {
   "cell_type": "code",
   "execution_count": 4,
   "metadata": {},
   "outputs": [
    {
     "name": "stdout",
     "output_type": "stream",
     "text": [
      "Enter the stringThis Is AbhAs\n",
      "Upper case4\n",
      "Lower case7\n"
     ]
    }
   ],
   "source": [
    "s=input(\"Enter the string\")\n",
    "x=[i for i in s]\n",
    "countu=0;\n",
    "counte=0;\n",
    "for i in x:\n",
    "    if(str(i).isupper()):\n",
    "        countu=countu+1;\n",
    "    elif(str(i).isspace()):\n",
    "        continue\n",
    "    else:\n",
    "        counte=counte+1\n",
    "\n",
    "print(\"Upper case\" +str(countu))\n",
    "print(\"Lower case\" +str(counte))\n",
    "    \n"
   ]
  },
  {
   "cell_type": "markdown",
   "metadata": {},
   "source": [
    "#### Write a Python function that takes a list and returns a new list with unique elements of the first list."
   ]
  },
  {
   "cell_type": "code",
   "execution_count": 7,
   "metadata": {},
   "outputs": [
    {
     "name": "stdout",
     "output_type": "stream",
     "text": [
      "{1, 2, 3, 4, 5}\n"
     ]
    }
   ],
   "source": [
    "\n",
    "def unique_list(s):\n",
    "    \n",
    "    return set(s)\n",
    "    \n",
    "    \n",
    "print(unique_list([1,2,3,3,3,3,4,5])) "
   ]
  },
  {
   "cell_type": "markdown",
   "metadata": {},
   "source": [
    "#### Write a Python function to check whether a number is in a given range."
   ]
  },
  {
   "cell_type": "code",
   "execution_count": 12,
   "metadata": {},
   "outputs": [
    {
     "name": "stdout",
     "output_type": "stream",
     "text": [
      "5 is in the range\n"
     ]
    }
   ],
   "source": [
    "def test_range(i):\n",
    "    for x in range(15+1):\n",
    "        if(i<=15):\n",
    "            print(str(i)+\" is in the range\")\n",
    "            break\n",
    "        else:\n",
    "            print(str(i)+\" is not in the range\")\n",
    "            break\n",
    "\n",
    "test_range(5)"
   ]
  },
  {
   "cell_type": "markdown",
   "metadata": {},
   "source": [
    "#### Write a Python function that checks whether a passed string is palindrome or not.\n",
    "\n",
    "Note: A palindrome is a word, phrase, or sequence that reads the same backward as forward, e.g., madam or nurses run."
   ]
  },
  {
   "cell_type": "code",
   "execution_count": 21,
   "metadata": {},
   "outputs": [
    {
     "name": "stdout",
     "output_type": "stream",
     "text": [
      "True\n"
     ]
    }
   ],
   "source": [
    "\n",
    "def isPalindrome(s):\n",
    "    st=\"\"\n",
    "    for i in s:\n",
    "        st=i+st\n",
    "    if(st==s):\n",
    "        return True\n",
    "    else:\n",
    "        return False\n",
    "\n",
    "print(isPalindrome('aza')) "
   ]
  },
  {
   "cell_type": "markdown",
   "metadata": {},
   "source": [
    "#### Write a Python function to create and print a list where the values are square of numbers between 1 and 10 (both included)."
   ]
  },
  {
   "cell_type": "code",
   "execution_count": 30,
   "metadata": {},
   "outputs": [
    {
     "name": "stdout",
     "output_type": "stream",
     "text": [
      "[1, 4, 9, 16, 25, 36, 49, 64, 81, 100]\n"
     ]
    }
   ],
   "source": [
    "def print_square_Values():\n",
    "    x1=[i**2 for i in range(1,11)] \n",
    "    print(x1)\n",
    "\n",
    "\n",
    "print_square_Values()"
   ]
  },
  {
   "cell_type": "markdown",
   "metadata": {},
   "source": [
    "#### write fibonacci function 1,1,2,3,5,8 => fib(n) using recursion"
   ]
  },
  {
   "cell_type": "code",
   "execution_count": null,
   "metadata": {},
   "outputs": [],
   "source": [
    "\n",
    "\n",
    "\n",
    "fib1(12)"
   ]
  },
  {
   "cell_type": "markdown",
   "metadata": {},
   "source": [
    "#### write fibonacci function fib2 using iteration"
   ]
  },
  {
   "cell_type": "code",
   "execution_count": null,
   "metadata": {},
   "outputs": [],
   "source": [
    "n1=input(\"enter the no\")\n",
    "def fib2(n):\n",
    "    t1=0;\n",
    "    t2=1;\n",
    "    tem=0;\n",
    "    for i in range(int(n)):\n",
    "        tem=t1+t2;\n",
    "        print(t1);\n",
    "        t1=t2;\n",
    "        t2=tem;\n",
    "    \n",
    "\n",
    "fib2(n1)    \n"
   ]
  },
  {
   "cell_type": "markdown",
   "metadata": {},
   "source": [
    "####  function that takes an argument and finds sum of squares of variable number of the argument"
   ]
  },
  {
   "cell_type": "code",
   "execution_count": 31,
   "metadata": {},
   "outputs": [],
   "source": [
    "a=[1,2,3,4]\n",
    "\n",
    "def sumOfSquares(*n):\n",
    "    sum1=0;\n",
    "    for i in a:\n",
    "        sum1=sum1+int(i**2)\n",
    "    print(sum1)\n",
    "\n",
    "\n",
    "\n",
    "\n"
   ]
  },
  {
   "cell_type": "code",
   "execution_count": 32,
   "metadata": {},
   "outputs": [
    {
     "name": "stdout",
     "output_type": "stream",
     "text": [
      "30\n"
     ]
    }
   ],
   "source": [
    "sumOfSquares([1,2,3,4])"
   ]
  },
  {
   "cell_type": "code",
   "execution_count": null,
   "metadata": {},
   "outputs": [],
   "source": []
  }
 ],
 "metadata": {
  "kernelspec": {
   "display_name": "Python 3",
   "language": "python",
   "name": "python3"
  },
  "language_info": {
   "codemirror_mode": {
    "name": "ipython",
    "version": 3
   },
   "file_extension": ".py",
   "mimetype": "text/x-python",
   "name": "python",
   "nbconvert_exporter": "python",
   "pygments_lexer": "ipython3",
   "version": "3.7.1"
  }
 },
 "nbformat": 4,
 "nbformat_minor": 2
}
